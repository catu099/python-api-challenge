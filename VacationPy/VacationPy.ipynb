{
 "cells": [
  {
   "cell_type": "markdown",
   "metadata": {},
   "source": [
    "# VacationPy\n",
    "----\n",
    "\n",
    "#### Note\n",
    "* Instructions have been included for each segment. You do not have to follow them exactly, but they are included to help you think through the steps."
   ]
  },
  {
   "cell_type": "code",
   "execution_count": 3,
   "metadata": {},
   "outputs": [],
   "source": [
    "# Dependencies and Setup\n",
    "import matplotlib.pyplot as plt\n",
    "import pandas as pd\n",
    "import numpy as np\n",
    "import requests\n",
    "import gmaps\n",
    "import os\n",
    "\n",
    "# Import API key\n",
    "from api_keys import g_key\n"
   ]
  },
  {
   "cell_type": "markdown",
   "metadata": {},
   "source": [
    "### Store Part I results into DataFrame\n",
    "* Load the csv exported in Part I to a DataFrame"
   ]
  },
  {
   "cell_type": "code",
   "execution_count": 7,
   "metadata": {},
   "outputs": [
    {
     "data": {
      "text/html": [
       "<div>\n",
       "<style scoped>\n",
       "    .dataframe tbody tr th:only-of-type {\n",
       "        vertical-align: middle;\n",
       "    }\n",
       "\n",
       "    .dataframe tbody tr th {\n",
       "        vertical-align: top;\n",
       "    }\n",
       "\n",
       "    .dataframe thead th {\n",
       "        text-align: right;\n",
       "    }\n",
       "</style>\n",
       "<table border=\"1\" class=\"dataframe\">\n",
       "  <thead>\n",
       "    <tr style=\"text-align: right;\">\n",
       "      <th></th>\n",
       "      <th>City</th>\n",
       "      <th>Lat</th>\n",
       "      <th>lng</th>\n",
       "      <th>Max Temp</th>\n",
       "      <th>Humidity</th>\n",
       "      <th>Cloudiness</th>\n",
       "      <th>Wind Speed</th>\n",
       "      <th>Country</th>\n",
       "      <th>Date</th>\n",
       "    </tr>\n",
       "  </thead>\n",
       "  <tbody>\n",
       "    <tr>\n",
       "      <th>0</th>\n",
       "      <td>east london</td>\n",
       "      <td>-33.02</td>\n",
       "      <td>27.91</td>\n",
       "      <td>67.08</td>\n",
       "      <td>87.0</td>\n",
       "      <td>99.0</td>\n",
       "      <td>21.32</td>\n",
       "      <td>ZA</td>\n",
       "      <td>1.603755e+09</td>\n",
       "    </tr>\n",
       "    <tr>\n",
       "      <th>1</th>\n",
       "      <td>malpe</td>\n",
       "      <td>13.35</td>\n",
       "      <td>74.72</td>\n",
       "      <td>77.00</td>\n",
       "      <td>88.0</td>\n",
       "      <td>20.0</td>\n",
       "      <td>2.80</td>\n",
       "      <td>IN</td>\n",
       "      <td>1.603755e+09</td>\n",
       "    </tr>\n",
       "    <tr>\n",
       "      <th>2</th>\n",
       "      <td>hofn</td>\n",
       "      <td>64.25</td>\n",
       "      <td>-15.21</td>\n",
       "      <td>36.54</td>\n",
       "      <td>78.0</td>\n",
       "      <td>4.0</td>\n",
       "      <td>10.74</td>\n",
       "      <td>IS</td>\n",
       "      <td>1.603755e+09</td>\n",
       "    </tr>\n",
       "    <tr>\n",
       "      <th>3</th>\n",
       "      <td>sulangan</td>\n",
       "      <td>11.14</td>\n",
       "      <td>123.72</td>\n",
       "      <td>82.63</td>\n",
       "      <td>75.0</td>\n",
       "      <td>100.0</td>\n",
       "      <td>10.22</td>\n",
       "      <td>PH</td>\n",
       "      <td>1.603755e+09</td>\n",
       "    </tr>\n",
       "    <tr>\n",
       "      <th>4</th>\n",
       "      <td>butaritari</td>\n",
       "      <td>3.07</td>\n",
       "      <td>172.79</td>\n",
       "      <td>81.72</td>\n",
       "      <td>67.0</td>\n",
       "      <td>77.0</td>\n",
       "      <td>9.82</td>\n",
       "      <td>KI</td>\n",
       "      <td>1.603755e+09</td>\n",
       "    </tr>\n",
       "  </tbody>\n",
       "</table>\n",
       "</div>"
      ],
      "text/plain": [
       "          City    Lat     lng  Max Temp  Humidity  Cloudiness  Wind Speed  \\\n",
       "0  east london -33.02   27.91     67.08      87.0        99.0       21.32   \n",
       "1        malpe  13.35   74.72     77.00      88.0        20.0        2.80   \n",
       "2         hofn  64.25  -15.21     36.54      78.0         4.0       10.74   \n",
       "3     sulangan  11.14  123.72     82.63      75.0       100.0       10.22   \n",
       "4   butaritari   3.07  172.79     81.72      67.0        77.0        9.82   \n",
       "\n",
       "  Country          Date  \n",
       "0      ZA  1.603755e+09  \n",
       "1      IN  1.603755e+09  \n",
       "2      IS  1.603755e+09  \n",
       "3      PH  1.603755e+09  \n",
       "4      KI  1.603755e+09  "
      ]
     },
     "execution_count": 7,
     "metadata": {},
     "output_type": "execute_result"
    }
   ],
   "source": [
    "# Read the file \n",
    "weather_file = \"output_data/city_weather_data.csv\"\n",
    "weather_data = pd.read_csv(weather_file)\n",
    "\n",
    "# Put it in a DataFrame\n",
    "weatherdf = pd.DataFrame(weather_data)\n",
    "weatherdf.head()"
   ]
  },
  {
   "cell_type": "markdown",
   "metadata": {},
   "source": [
    "### Humidity Heatmap\n",
    "* Configure gmaps.\n",
    "* Use the Lat and Lng as locations and Humidity as the weight.\n",
    "* Add Heatmap layer to map."
   ]
  },
  {
   "cell_type": "code",
   "execution_count": 8,
   "metadata": {},
   "outputs": [],
   "source": [
    "# Configure gmaps with API key\n",
    "gmaps.configure(api_key=g_key)"
   ]
  },
  {
   "cell_type": "code",
   "execution_count": 11,
   "metadata": {},
   "outputs": [],
   "source": [
    "# Store 'Lat' and 'Lng' into  locations \n",
    "locations = weatherdf[[\"Lat\", \"lng\"]].astype(float)\n",
    "\n",
    "#weatherdf = weatherdf.dropna()\n",
    "\n",
    "hum_rate = weatherdf[\"Humidity\"].astype(float)\n"
   ]
  },
  {
   "cell_type": "code",
   "execution_count": 12,
   "metadata": {},
   "outputs": [
    {
     "data": {
      "application/vnd.jupyter.widget-view+json": {
       "model_id": "687a498fa60f408fa84a12edd5ff298f",
       "version_major": 2,
       "version_minor": 0
      },
      "text/plain": [
       "Figure(layout=FigureLayout(height='420px'))"
      ]
     },
     "metadata": {},
     "output_type": "display_data"
    },
    {
     "data": {
      "text/plain": [
       "<Figure size 432x288 with 0 Axes>"
      ]
     },
     "metadata": {},
     "output_type": "display_data"
    }
   ],
   "source": [
    "# Create a poverty Heatmap layer\n",
    "fig = gmaps.figure(center=(48.0, 0.0), zoom_level=2)\n",
    "\n",
    "heat_layer = gmaps.heatmap_layer(locations, weights=hum_rate, \n",
    "                                 dissipating=False, max_intensity=100,\n",
    "                                 point_radius = 1, opacity=1)\n",
    "\n",
    "fig.add_layer(heat_layer)\n",
    "\n",
    "plt.savefig(\"vacationheatmap.png\")\n",
    "fig"
   ]
  },
  {
   "cell_type": "markdown",
   "metadata": {},
   "source": [
    "### Create new DataFrame fitting weather criteria\n",
    "* Narrow down the cities to fit weather conditions.\n",
    "* Drop any rows will null values."
   ]
  },
  {
   "cell_type": "code",
   "execution_count": 25,
   "metadata": {},
   "outputs": [],
   "source": [
    "#Finding the ideal weather condition.\n",
    "\n",
    "#A max temperature lower than 80 degrees but higher than 70.\n",
    "filtered_weather = weatherdf.loc[weatherdf[\"Max Temp\"]<80,:]\n",
    "filtered_weather = first.loc[weatherdf[\"Max Temp\"]>70,:]\n",
    "\n",
    "#Wind speed less than 10 mph.\n",
    "filtered_weather = second.loc[second[\"Wind Speed\"]<10,:]\n",
    "\n",
    "#Zero cloudiness.\n",
    "filtered_weather = third.loc[third[\"Cloudiness\"]==0,:]\n"
   ]
  },
  {
   "cell_type": "markdown",
   "metadata": {},
   "source": [
    "### Hotel Map\n",
    "* Store into variable named `hotel_df`.\n",
    "* Add a \"Hotel Name\" column to the DataFrame.\n",
    "* Set parameters to search for hotels with 5000 meters.\n",
    "* Hit the Google Places API for each city's coordinates.\n",
    "* Store the first Hotel result into the DataFrame.\n",
    "* Plot markers on top of the heatmap."
   ]
  },
  {
   "cell_type": "code",
   "execution_count": 26,
   "metadata": {},
   "outputs": [
    {
     "data": {
      "text/html": [
       "<div>\n",
       "<style scoped>\n",
       "    .dataframe tbody tr th:only-of-type {\n",
       "        vertical-align: middle;\n",
       "    }\n",
       "\n",
       "    .dataframe tbody tr th {\n",
       "        vertical-align: top;\n",
       "    }\n",
       "\n",
       "    .dataframe thead th {\n",
       "        text-align: right;\n",
       "    }\n",
       "</style>\n",
       "<table border=\"1\" class=\"dataframe\">\n",
       "  <thead>\n",
       "    <tr style=\"text-align: right;\">\n",
       "      <th></th>\n",
       "      <th>City</th>\n",
       "      <th>Country</th>\n",
       "      <th>Lat</th>\n",
       "      <th>Lng</th>\n",
       "    </tr>\n",
       "  </thead>\n",
       "  <tbody>\n",
       "    <tr>\n",
       "      <th>99</th>\n",
       "      <td>arlit</td>\n",
       "      <td>NE</td>\n",
       "      <td>18.74</td>\n",
       "      <td>7.39</td>\n",
       "    </tr>\n",
       "    <tr>\n",
       "      <th>103</th>\n",
       "      <td>tirat karmel</td>\n",
       "      <td>IL</td>\n",
       "      <td>32.76</td>\n",
       "      <td>34.97</td>\n",
       "    </tr>\n",
       "    <tr>\n",
       "      <th>279</th>\n",
       "      <td>salalah</td>\n",
       "      <td>OM</td>\n",
       "      <td>17.02</td>\n",
       "      <td>54.09</td>\n",
       "    </tr>\n",
       "    <tr>\n",
       "      <th>308</th>\n",
       "      <td>nandura</td>\n",
       "      <td>IN</td>\n",
       "      <td>20.83</td>\n",
       "      <td>76.45</td>\n",
       "    </tr>\n",
       "    <tr>\n",
       "      <th>332</th>\n",
       "      <td>islamkot</td>\n",
       "      <td>PK</td>\n",
       "      <td>24.70</td>\n",
       "      <td>70.18</td>\n",
       "    </tr>\n",
       "  </tbody>\n",
       "</table>\n",
       "</div>"
      ],
      "text/plain": [
       "             City Country    Lat    Lng\n",
       "99          arlit      NE  18.74   7.39\n",
       "103  tirat karmel      IL  32.76  34.97\n",
       "279       salalah      OM  17.02  54.09\n",
       "308       nandura      IN  20.83  76.45\n",
       "332      islamkot      PK  24.70  70.18"
      ]
     },
     "execution_count": 26,
     "metadata": {},
     "output_type": "execute_result"
    }
   ],
   "source": [
    "#Store into variable named hotel_df.\n",
    "#Add a \"Hotel Name\" column to the DataFrame.\n",
    "hotel_df = pd.DataFrame()\n",
    "filtered_weather = pd.DataFrame(filtered_weather)\n",
    "hotel_df['City'] = fifth['City']\n",
    "hotel_df['Country'] = fifth['Country']\n",
    "hotel_df['Lat'] = fifth['Lat']\n",
    "hotel_df['Lng'] = fifth['lng']\n",
    "#hotel_df['Hotel Name'] = \"\"\n",
    "hotel_df.head()"
   ]
  },
  {
   "cell_type": "code",
   "execution_count": 33,
   "metadata": {},
   "outputs": [
    {
     "name": "stdout",
     "output_type": "stream",
     "text": [
      "Retrieving Results for Index 99: arlit.\n",
      "Closest hotel to arlit at 18.74 , 7.39 is Trakou Marche.\n",
      "------------\n",
      "Retrieving Results for Index 103: tirat karmel.\n",
      "Closest hotel to tirat karmel at 32.76 , 34.97 is Garden Hotel.\n",
      "------------\n",
      "Retrieving Results for Index 279: salalah.\n",
      "Closest hotel to salalah at 17.02 , 54.09 is Alrehab Palace 1.\n",
      "------------\n",
      "Retrieving Results for Index 308: nandura.\n",
      "Closest hotel to nandura at 20.83 , 76.45 is Hanuman And Shree Balaji Mandir.\n",
      "------------\n",
      "Retrieving Results for Index 332: islamkot.\n",
      "Closest hotel to islamkot at 24.7 , 70.18 is Town Committee Old Shopping Center.\n",
      "------------\n",
      "Retrieving Results for Index 402: keti bandar.\n",
      "Closest hotel to keti bandar at 24.14 , 67.45 is Nawaz Khan Crab Company.\n",
      "------------\n",
      "Retrieving Results for Index 437: inhambane.\n",
      "Closest hotel to inhambane at -23.86 , 35.38 is Saboeira.\n",
      "------------\n",
      "Retrieving Results for Index 440: koungou.\n",
      "Closest hotel to koungou at -12.73 , 45.2 is Selectour - AMVoyages.\n",
      "------------\n",
      "Retrieving Results for Index 478: khajuraho.\n",
      "Closest hotel to khajuraho at 24.85 , 79.93 is Hotel Zen.\n",
      "------------\n",
      "Retrieving Results for Index 532: sakakah.\n",
      "Closest hotel to sakakah at 29.97 , 40.21 is دي اتش الDHL.\n",
      "------------\n"
     ]
    }
   ],
   "source": [
    "# use iterrow  to get the dataframe \n",
    "for index, row in hotel_df.iterrows():\n",
    "\n",
    "    # get restaurant type from df\n",
    "    latitude = row['Lat']\n",
    "    longitude = row['Lng']\n",
    "    city = row['City']\n",
    "    country = row['Country']\n",
    "\n",
    "    # assemble url and make API request\n",
    "    print(f\"Retrieving Results for Index {index}: {city}.\")\n",
    "    response = requests.get(f\"https://maps.googleapis.com/maps/api/place/textsearch/json?location={latitude},{longitude}&radius=5000&type=hotel&key={g_key}\").json()\n",
    "    \n",
    "    # extract results\n",
    "    results = response['results']\n",
    "    \n",
    "    try:\n",
    "        hotelname = response['results'][7]['name']\n",
    "        print(f\"Closest hotel to {city} at {latitude} , {longitude} is {hotelname}.\")\n",
    "        \n",
    "        hotel_df.loc[index, \"Hotel Name\"] = hotelname\n",
    "        \n",
    "    except (KeyError, IndexError):\n",
    "        print(\"Missing field/result... skipping.\")\n",
    "        \n",
    "    print(\"------------\")"
   ]
  },
  {
   "cell_type": "code",
   "execution_count": 34,
   "metadata": {},
   "outputs": [
    {
     "data": {
      "text/html": [
       "<div>\n",
       "<style scoped>\n",
       "    .dataframe tbody tr th:only-of-type {\n",
       "        vertical-align: middle;\n",
       "    }\n",
       "\n",
       "    .dataframe tbody tr th {\n",
       "        vertical-align: top;\n",
       "    }\n",
       "\n",
       "    .dataframe thead th {\n",
       "        text-align: right;\n",
       "    }\n",
       "</style>\n",
       "<table border=\"1\" class=\"dataframe\">\n",
       "  <thead>\n",
       "    <tr style=\"text-align: right;\">\n",
       "      <th></th>\n",
       "      <th>City</th>\n",
       "      <th>Country</th>\n",
       "      <th>Lat</th>\n",
       "      <th>Lng</th>\n",
       "      <th>Hotel Name</th>\n",
       "    </tr>\n",
       "  </thead>\n",
       "  <tbody>\n",
       "    <tr>\n",
       "      <th>99</th>\n",
       "      <td>arlit</td>\n",
       "      <td>NE</td>\n",
       "      <td>18.74</td>\n",
       "      <td>7.39</td>\n",
       "      <td>Trakou Marche</td>\n",
       "    </tr>\n",
       "    <tr>\n",
       "      <th>103</th>\n",
       "      <td>tirat karmel</td>\n",
       "      <td>IL</td>\n",
       "      <td>32.76</td>\n",
       "      <td>34.97</td>\n",
       "      <td>Garden Hotel</td>\n",
       "    </tr>\n",
       "    <tr>\n",
       "      <th>279</th>\n",
       "      <td>salalah</td>\n",
       "      <td>OM</td>\n",
       "      <td>17.02</td>\n",
       "      <td>54.09</td>\n",
       "      <td>Alrehab Palace 1</td>\n",
       "    </tr>\n",
       "    <tr>\n",
       "      <th>308</th>\n",
       "      <td>nandura</td>\n",
       "      <td>IN</td>\n",
       "      <td>20.83</td>\n",
       "      <td>76.45</td>\n",
       "      <td>Hanuman And Shree Balaji Mandir</td>\n",
       "    </tr>\n",
       "    <tr>\n",
       "      <th>332</th>\n",
       "      <td>islamkot</td>\n",
       "      <td>PK</td>\n",
       "      <td>24.70</td>\n",
       "      <td>70.18</td>\n",
       "      <td>Town Committee Old Shopping Center</td>\n",
       "    </tr>\n",
       "  </tbody>\n",
       "</table>\n",
       "</div>"
      ],
      "text/plain": [
       "             City Country    Lat    Lng                          Hotel Name\n",
       "99          arlit      NE  18.74   7.39                       Trakou Marche\n",
       "103  tirat karmel      IL  32.76  34.97                        Garden Hotel\n",
       "279       salalah      OM  17.02  54.09                    Alrehab Palace 1\n",
       "308       nandura      IN  20.83  76.45     Hanuman And Shree Balaji Mandir\n",
       "332      islamkot      PK  24.70  70.18  Town Committee Old Shopping Center"
      ]
     },
     "execution_count": 34,
     "metadata": {},
     "output_type": "execute_result"
    }
   ],
   "source": [
    "hotel_df.head()"
   ]
  },
  {
   "cell_type": "code",
   "execution_count": 35,
   "metadata": {},
   "outputs": [],
   "source": [
    "# NOTE: Do not change any of the code in this cell\n",
    "\n",
    "# Using the template add the hotel marks to the heatmap\n",
    "info_box_template = \"\"\"\n",
    "<dl>\n",
    "<dt>Name</dt><dd>{Hotel Name}</dd>\n",
    "<dt>City</dt><dd>{City}</dd>\n",
    "<dt>Country</dt><dd>{Country}</dd>\n",
    "</dl>\n",
    "\"\"\"\n",
    "# Store the DataFrame Row\n",
    "# NOTE: be sure to update with your DataFrame name\n",
    "hotel_info = [info_box_template.format(**row) for index, row in hotel_df.iterrows()]\n",
    "locations2 = hotel_df[[\"Lat\", \"Lng\"]]"
   ]
  },
  {
   "cell_type": "code",
   "execution_count": 46,
   "metadata": {},
   "outputs": [
    {
     "data": {
      "application/vnd.jupyter.widget-view+json": {
       "model_id": "aff5e4640dc24e2ebaca3911dedbb991",
       "version_major": 2,
       "version_minor": 0
      },
      "text/plain": [
       "Figure(layout=FigureLayout(height='420px'))"
      ]
     },
     "metadata": {},
     "output_type": "display_data"
    },
    {
     "data": {
      "text/plain": [
       "<Figure size 432x288 with 0 Axes>"
      ]
     },
     "metadata": {},
     "output_type": "display_data"
    }
   ],
   "source": [
    "# Add marker layer ontop of heat map\n",
    "fig = gmaps.figure(center=(48.0, 0.0), zoom_level=2)\n",
    "\n",
    "heat_layer = gmaps.heatmap_layer(locations,  \n",
    "                                 dissipating=False, max_intensity=100,\n",
    "                                 point_radius = 1, opacity=1)\n",
    "\n",
    "\n",
    "hotel_layer = gmaps.marker_layer(locations2, hover_text='', label='', info_box_content=hotel_info)\n",
    "\n",
    "fig.add_layer(heat_layer)\n",
    "fig.add_layer(hotel_layer)\n",
    "\n",
    "plt.savefig(\"vacationheatmapwithhotels.png\")\n",
    "\n",
    "fig"
   ]
  },
  {
   "cell_type": "code",
   "execution_count": null,
   "metadata": {},
   "outputs": [],
   "source": []
  },
  {
   "cell_type": "code",
   "execution_count": null,
   "metadata": {},
   "outputs": [],
   "source": []
  }
 ],
 "metadata": {
  "kernelspec": {
   "display_name": "Python 3",
   "language": "python",
   "name": "python3"
  },
  "language_info": {
   "codemirror_mode": {
    "name": "ipython",
    "version": 3
   },
   "file_extension": ".py",
   "mimetype": "text/x-python",
   "name": "python",
   "nbconvert_exporter": "python",
   "pygments_lexer": "ipython3",
   "version": "3.8.3"
  },
  "latex_envs": {
   "LaTeX_envs_menu_present": true,
   "autoclose": false,
   "autocomplete": true,
   "bibliofile": "biblio.bib",
   "cite_by": "apalike",
   "current_citInitial": 1,
   "eqLabelWithNumbers": true,
   "eqNumInitial": 1,
   "hotkeys": {
    "equation": "Ctrl-E",
    "itemize": "Ctrl-I"
   },
   "labels_anchors": false,
   "latex_user_defs": false,
   "report_style_numbering": false,
   "user_envs_cfg": false
  }
 },
 "nbformat": 4,
 "nbformat_minor": 2
}
